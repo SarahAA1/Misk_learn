{
 "cells": [
  {
   "cell_type": "markdown",
   "metadata": {},
   "source": [
    "# Base Python Exercises\n",
    "##### January 12th , group exercises"
   ]
  },
  {
   "cell_type": "markdown",
   "metadata": {},
   "source": [
    "#### I. Answer the following questions"
   ]
  },
  {
   "cell_type": "markdown",
   "metadata": {},
   "source": [
    "\n",
    "**1- Read an integer n. For all non-negative integers i < n, print the square of i.**"
   ]
  },
  {
   "cell_type": "code",
   "execution_count": 24,
   "metadata": {},
   "outputs": [
    {
     "name": "stdout",
     "output_type": "stream",
     "text": [
      "0\n",
      "1\n",
      "4\n",
      "9\n",
      "16\n"
     ]
    }
   ],
   "source": [
    "if __name__ == '__main__':\n",
    "    n = int(input())\n",
    "    for i in range(0,n):\n",
    "        print (i*i)"
   ]
  },
  {
   "cell_type": "markdown",
   "metadata": {},
   "source": [
    "**2- Read an integer n. For all non-negative integers  i < n, if i is odd print cube of i, if i is even print square of i.**"
   ]
  },
  {
   "cell_type": "code",
   "execution_count": 25,
   "metadata": {},
   "outputs": [
    {
     "name": "stdout",
     "output_type": "stream",
     "text": [
      "0\n",
      "1\n",
      "4\n",
      "27\n",
      "16\n"
     ]
    }
   ],
   "source": [
    "if __name__ == '__main__':\n",
    "    n = int(input())\n",
    "    for i in range(0,n):\n",
    "        if (i%2 ==0):\n",
    "            print(i*i)\n",
    "        else:\n",
    "             print(i**i)\n"
   ]
  },
  {
   "cell_type": "markdown",
   "metadata": {},
   "source": [
    "**3- Do questions 1 and 2 again, this time return lists of numbers instead of printing.**"
   ]
  },
  {
   "cell_type": "code",
   "execution_count": 42,
   "metadata": {},
   "outputs": [
    {
     "name": "stdout",
     "output_type": "stream",
     "text": [
      "please enter an integer number [0, 1, 4, 27, 16, 125, 36, 343, 64, 729]\n"
     ]
    }
   ],
   "source": [
    "def all_numbers ():\n",
    "    list1=[]\n",
    "    n = int(input())\n",
    "    for i in range(0,n):\n",
    "        if (i%2 ==0):\n",
    "            list1.append(i*i)\n",
    "        else:\n",
    "             list1.append(i**3)\n",
    "    return list1\n",
    "\n",
    "print(\"please enter an integer number\", all_numbers()) "
   ]
  },
  {
   "cell_type": "markdown",
   "metadata": {},
   "source": [
    "**4- Print the sum of the 5 lowest numbers from the list you created in c.**"
   ]
  },
  {
   "cell_type": "code",
   "execution_count": 49,
   "metadata": {},
   "outputs": [
    {
     "name": "stdout",
     "output_type": "stream",
     "text": [
      "48\n"
     ]
    }
   ],
   "source": [
    "list1.sort()\n",
    "total = 0\n",
    "for i in range(0,5):\n",
    "    total += list1[i]\n",
    "print(total)"
   ]
  },
  {
   "cell_type": "markdown",
   "metadata": {},
   "source": [
    "**Can you think of another way to do questions a and b? A dif type of loop**"
   ]
  },
  {
   "cell_type": "code",
   "execution_count": null,
   "metadata": {},
   "outputs": [],
   "source": [
    "num_list = [y for y in range(100) if y % 2 == 0 if y % 5 == 0]\n",
    "print(num_list)"
   ]
  },
  {
   "cell_type": "markdown",
   "metadata": {},
   "source": [
    "**5 - Iterate over the following sentence over and over again, counting the number of vowels in the sentence until you have counted 1 million vowels. Print out the number of iterations it took to reach one million.**"
   ]
  },
  {
   "cell_type": "code",
   "execution_count": 62,
   "metadata": {},
   "outputs": [
    {
     "name": "stdout",
     "output_type": "stream",
     "text": [
      "The number of iterations is 45455\n"
     ]
    }
   ],
   "source": [
    "\n",
    "vowels=0\n",
    "iter=0\n",
    "while (vowels<= 1000000):\n",
    "    sentence = \"IF I PRACTICE A LOT I WILL SOON BECOME A VERY GOOD PYTHON PROGRAMMER\"\n",
    "    for i in sentence:\n",
    "        if(i == 'A'or i == 'E'or i == 'I'or i == 'O'or i == 'U' ):\n",
    "           vowels=vowels+1\n",
    "    iter +=1\n",
    "print(\"The number of iterations is\" , iter)\n"
   ]
  },
  {
   "cell_type": "markdown",
   "metadata": {},
   "source": [
    "**6. Write an if-else statement for multiple conditions:**\n",
    "\n",
    "Print out these recommendations based on the weather conditions:\n",
    "\n",
    "1. Temperature over 20 ˚C and rain: bring an umbrella.\n",
    "2. Temperature less than or equal to 20 ˚C and rain: bring and umbrella and a jacket.\n",
    "3. Temperature over 20 ˚C and sunshine: wear a t-shirt.\n",
    "4. Temperature less than or equal to 20 ˚C and sunshine: bring a jacket."
   ]
  },
  {
   "cell_type": "code",
   "execution_count": 89,
   "metadata": {},
   "outputs": [
    {
     "name": "stdout",
     "output_type": "stream",
     "text": [
      "please enter the temperature\n",
      "please enter the weather condition\n",
      "Please bring a jacket\n"
     ]
    }
   ],
   "source": [
    "if __name__ == '__main__':\n",
    "    print(\"please enter the temperature\")\n",
    "    temp= int(input())\n",
    "    print(\"please enter the weather condition\")\n",
    "    condition = input()\n",
    "    \n",
    "if (temp >20 and condition ==\"rain\"):\n",
    "    print (\"Please bring an umbrella\")\n",
    "elif(temp <=20 and condition ==\"rain\"):\n",
    "    print (\"Please bring and umbrella and a jacket\")\n",
    "elif(temp >200 and condition ==\"sunshine\"):\n",
    "    print (\"Please wear a t-shirt\")\n",
    "elif(temp <=20 and condition ==\"sunshine\"):\n",
    "    print (\"Please bring a jacket\")"
   ]
  },
  {
   "cell_type": "markdown",
   "metadata": {},
   "source": [
    "**7- Turn your code above into a function forecast() that takes two arguments (from input) temperature and weather and return the recommendation.**"
   ]
  },
  {
   "cell_type": "code",
   "execution_count": 90,
   "metadata": {},
   "outputs": [
    {
     "name": "stdout",
     "output_type": "stream",
     "text": [
      "please enter the temperature\n",
      "please enter the weather condition\n"
     ]
    },
    {
     "data": {
      "text/plain": [
       "'Please bring and umbrella and a jacket'"
      ]
     },
     "execution_count": 90,
     "metadata": {},
     "output_type": "execute_result"
    }
   ],
   "source": [
    "def forcast (temp, condition):\n",
    "    \n",
    "    if (temp >20 and condition ==\"rain\"):\n",
    "        recommendation = (\"Please bring an umbrella\")\n",
    "    elif(temp <=20 and condition ==\"rain\"):\n",
    "        recommendation = (\"Please bring and umbrella and a jacket\")\n",
    "    elif(temp >200 and condition ==\"sunshine\"):\n",
    "        recommendation = (\"Please wear a t-shirt\")\n",
    "    elif(temp <=20 and condition ==\"sunshine\"):\n",
    "        recommendation=  (\"Please bring a jacket\")\n",
    "    return recommendation\n",
    "\n",
    "print(\"please enter the temperature\")\n",
    "temp= int(input())\n",
    "print(\"please enter the weather condition\")\n",
    "condition = input()\n",
    "forcast(temp, condition)"
   ]
  },
  {
   "cell_type": "markdown",
   "metadata": {},
   "source": [
    "#### II. Create the following functions:"
   ]
  },
  {
   "cell_type": "markdown",
   "metadata": {},
   "source": [
    "#### 1- Sum of List\n",
    "- function name is `sum_of_list`\n",
    "- input arguments are:\n",
    "  - list of numbers : `nums`\n",
    "- return is:\n",
    "  - number: sum of all elements in `nums`"
   ]
  },
  {
   "cell_type": "code",
   "execution_count": 63,
   "metadata": {},
   "outputs": [
    {
     "data": {
      "text/plain": [
       "10"
      ]
     },
     "execution_count": 63,
     "metadata": {},
     "output_type": "execute_result"
    }
   ],
   "source": [
    "def sum_of_list(nums):\n",
    "    Sum = sum(nums)\n",
    "    return(Sum) \n",
    "\n",
    "my_list = [1,2,3,4]\n",
    "sum_of_list(my_list)"
   ]
  },
  {
   "cell_type": "markdown",
   "metadata": {},
   "source": [
    "#### 2- Multiply Elements of List\n",
    "- function name is `multiply_list`\n",
    "- input arguments are:\n",
    "  - list of numbers : `nums`\n",
    "- return is:\n",
    "  - number: product of all elements in `nums`"
   ]
  },
  {
   "cell_type": "code",
   "execution_count": 64,
   "metadata": {},
   "outputs": [
    {
     "data": {
      "text/plain": [
       "24"
      ]
     },
     "execution_count": 64,
     "metadata": {},
     "output_type": "execute_result"
    }
   ],
   "source": [
    "import numpy as np\n",
    "def multiply_list (nums):\n",
    "    result = np.prod(nums)\n",
    "    return result\n",
    "\n",
    "my_list = [1,2,3,4]\n",
    "multiply_list(my_list)"
   ]
  },
  {
   "cell_type": "markdown",
   "metadata": {},
   "source": [
    "#### 3- Reverse a String\n",
    "- function name is `reverse_string`\n",
    "- input arguments are:\n",
    "  - string : `string_to_reverse`\n",
    "- return is:\n",
    "  - string : `reversed_string`, the reversed result of input `string_to_reverse`\n",
    "  \n",
    "Note: Do not use `[::-1]` indexing to solve this problem, use loops."
   ]
  },
  {
   "cell_type": "code",
   "execution_count": 83,
   "metadata": {},
   "outputs": [
    {
     "name": "stdout",
     "output_type": "stream",
     "text": [
      "haraS\n"
     ]
    }
   ],
   "source": [
    "def reverse_string(string_to_reverse):\n",
    "   reversed_string =\"\"\n",
    "   for i in string_to_reverse: \n",
    "        reversed_string = i+ reversed_string  \n",
    "   return reversed_string  \n",
    "\n",
    "s = \"Sarah\"\n",
    "print (reverse_string(s))"
   ]
  },
  {
   "cell_type": "markdown",
   "metadata": {},
   "source": [
    "#### 4- Max of Three\n",
    "- function name is `max_of_three`\n",
    "- input arguments are:\n",
    "  - int : `x`\n",
    "  - int : `y`\n",
    "  - int : `z`\n",
    "- return is:\n",
    "  - int: max value of `x`, `y`, and `z`"
   ]
  },
  {
   "cell_type": "code",
   "execution_count": 84,
   "metadata": {},
   "outputs": [
    {
     "data": {
      "text/plain": [
       "8"
      ]
     },
     "execution_count": 84,
     "metadata": {},
     "output_type": "execute_result"
    }
   ],
   "source": [
    "def max_of_three(x,y,z):\n",
    "       list = [x,y,z] \n",
    "       return max(list) \n",
    "\n",
    "max_of_three(2,4,8)"
   ]
  },
  {
   "cell_type": "markdown",
   "metadata": {},
   "source": [
    "#### 5- Unique Elements Only\n",
    "- function name is `make_unique`\n",
    "- input arguments are:\n",
    "  - list (mixed types)\n",
    "- return is:\n",
    "  - list (mixed types)\n",
    "  \n",
    "Note: Do not use `set` to solve this problem."
   ]
  },
  {
   "cell_type": "code",
   "execution_count": 97,
   "metadata": {},
   "outputs": [
    {
     "data": {
      "text/plain": [
       "[2, 3, 4, 's', 5.2]"
      ]
     },
     "execution_count": 97,
     "metadata": {},
     "output_type": "execute_result"
    }
   ],
   "source": [
    "def make_unique (mix_list):\n",
    "    unique_list = []\n",
    "    for x in mix_list:\n",
    "        if x not in unique_list:\n",
    "            unique_list.append(x)\n",
    "    return unique_list\n",
    "mix_list = [2,3,4,'s', 5.2,'s','s']\n",
    "make_unique(mix_list)\n",
    "    "
   ]
  },
  {
   "cell_type": "markdown",
   "metadata": {},
   "source": [
    "#### 6- Is It a [Palindrome?](https://en.wikipedia.org/wiki/Palindrome)\n",
    "- function name is `is_word_palindrome`\n",
    "- input arguments are:\n",
    "  - string\n",
    "- return is:\n",
    "  - boolean (True if input string is Palindrome, else False)\n",
    "  \n",
    "Note: Do not use [::-1] indexing to solve this problem.\n",
    "Note 2: Whitespace should be considered as a character against which to evaluate symmetry."
   ]
  },
  {
   "cell_type": "code",
   "execution_count": 87,
   "metadata": {},
   "outputs": [
    {
     "data": {
      "text/plain": [
       "True"
      ]
     },
     "execution_count": 87,
     "metadata": {},
     "output_type": "execute_result"
    }
   ],
   "source": [
    "\n",
    "def is_word_palindrome (str):\n",
    "    rev = ''.join(reversed(str))\n",
    "    if (str == rev):\n",
    "        return True\n",
    "    return False\n",
    " \n",
    "# main function\n",
    "s = \"madam\"\n",
    "is_word_palindrome(s)"
   ]
  },
  {
   "cell_type": "markdown",
   "metadata": {},
   "source": [
    "#### [optional] Unit Tests\n",
    "\n",
    "- unittest is the batteries-included test module in the Python standard library.\n",
    "\n",
    "- https://docs.python.org/3/library/unittest.html\n",
    "\n",
    "\n",
    "Run the cell below to determine if your functions were correctly written. \n",
    "\n",
    "You will see the following if all your functions were correctly written:\n",
    "```\n",
    "......\n",
    "Currently testing 'test_is_word_palindrome'...\n",
    "Currently testing 'test_make_unique'...\n",
    "Currently testing 'test_max_of_three'...\n",
    "Currently testing 'test_multiply_list'...\n",
    "Currently testing 'test_reverse_string'...\n",
    "Currently testing 'test_sum_of_list'...\n",
    "\n",
    "----------------------------------------------------------------------\n",
    "Ran 6 tests in 0.008s\n",
    "\n",
    "OK\n",
    "```\n",
    "\n",
    "\n",
    "If you have an error in your function, you will see an output similar to the following:\n",
    "```\n",
    "..F...\n",
    "Currently testing 'test_is_word_palindrome'...\n",
    "Currently testing 'test_make_unique'...\n",
    "Currently testing 'test_max_of_three'...\n",
    "Currently testing 'test_multiply_list'...\n",
    "Currently testing 'test_reverse_string'...\n",
    "Currently testing 'test_sum_of_list'...\n",
    "\n",
    "======================================================================\n",
    "FAIL: test_max_of_three (__main__.TestAllFunctions)\n",
    "----------------------------------------------------------------------\n",
    "Traceback (most recent call last):\n",
    "  File \"<ipython-input-10-e39454a386b1>\", line 17, in test_max_of_three\n",
    "    self.assertEqual(max_of_three(3, 6, -5), 6)\n",
    "AssertionError: -5 != 6\n",
    "\n",
    "----------------------------------------------------------------------\n",
    "Ran 6 tests in 0.021s\n",
    "\n",
    "FAILED (failures=1)\n",
    "```\n",
    "\n",
    "The error we've encountered in the above output occurred at test 3 of 6 (note how the `F` occurrs at the 3rd dot of 6 dots along the top of the output). Our function `test_max_of_three` returned a value of `-5` but the test we used expected a value of `6`. We will need to revisit our function `test_max_of_three` to ensure it returns a value of `6` when passed values of `3`, `6`, and `-5`."
   ]
  },
  {
   "cell_type": "code",
   "execution_count": 91,
   "metadata": {},
   "outputs": [],
   "source": [
    "import unittest"
   ]
  },
  {
   "cell_type": "code",
   "execution_count": 98,
   "metadata": {},
   "outputs": [
    {
     "name": "stderr",
     "output_type": "stream",
     "text": [
      "......"
     ]
    },
    {
     "name": "stdout",
     "output_type": "stream",
     "text": [
      "Currently testing 'test_is_word_palindrome'...\n",
      "Currently testing 'test_make_unique'...\n",
      "Currently testing 'test_max_of_three'...\n",
      "Currently testing 'test_multiply_list'...\n",
      "Currently testing 'test_reverse_string'...\n",
      "Currently testing 'test_sum_of_list'...\n"
     ]
    },
    {
     "name": "stderr",
     "output_type": "stream",
     "text": [
      "\n",
      "----------------------------------------------------------------------\n",
      "Ran 6 tests in 0.039s\n",
      "\n",
      "OK\n"
     ]
    }
   ],
   "source": [
    "class TestAllFunctions(unittest.TestCase):\n",
    "    \n",
    "    def setUp(self):\n",
    "        print(\"Currently testing \\'{0}\\'...\".format(self._testMethodName))\n",
    "        \n",
    "    def test_sum_of_list(self):\n",
    "        self.assertEqual(sum_of_list((8, 2, 3, 0, 7)), 20)\n",
    "        self.assertEqual(sum_of_list([-8, 2, 3, 0, 7]), 4)\n",
    "        \n",
    "    def test_multiply_list(self):\n",
    "        self.assertEqual(multiply_list([2, 2, 4]), 16)\n",
    "        \n",
    "    def test_reverse_string(self):\n",
    "        self.assertEqual(reverse_string('greg'), 'gerg')\n",
    "        \n",
    "    def test_max_of_three(self):\n",
    "        self.assertEqual(max_of_three(3, 6, -5), 6)\n",
    "        self.assertEqual(max_of_three(5, 5, -5), 5)\n",
    "    \n",
    "    def test_make_unique(self):\n",
    "        # note that set is used here for order invariance of the list\n",
    "        self.assertEqual(set(make_unique([1,1,1,'greg',2,2,3,3,3,3,'greg'])), set([1,2,3,'greg']))\n",
    "    \n",
    "    def test_is_word_palindrome(self):\n",
    "        self.assertFalse(is_word_palindrome('greg'))\n",
    "        self.assertTrue(is_word_palindrome('gohangasalamiimalasagnahog'))\n",
    "\n",
    "unittest.main(argv=['first-arg-is-ignored'], exit=False);"
   ]
  },
  {
   "cell_type": "markdown",
   "metadata": {},
   "source": [
    "Some additional reading regarding unit tests: \n",
    "\n",
    "https://realpython.com/python-testing/\n",
    "\n",
    "https://medium.com/@mashood.snhu/a-quick-start-guide-to-python-unittest-part-1-9653683637ca"
   ]
  }
 ],
 "metadata": {
  "interpreter": {
   "hash": "d4d1e4263499bec80672ea0156c357c1ee493ec2b1c70f0acce89fc37c4a6abe"
  },
  "kernelspec": {
   "display_name": "Python 3.8.8 64-bit ('base': conda)",
   "language": "python",
   "name": "python3"
  },
  "language_info": {
   "codemirror_mode": {
    "name": "ipython",
    "version": 3
   },
   "file_extension": ".py",
   "mimetype": "text/x-python",
   "name": "python",
   "nbconvert_exporter": "python",
   "pygments_lexer": "ipython3",
   "version": "3.8.8"
  },
  "orig_nbformat": 4
 },
 "nbformat": 4,
 "nbformat_minor": 2
}
